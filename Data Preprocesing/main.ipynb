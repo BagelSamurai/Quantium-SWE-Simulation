{
 "cells": [
  {
   "metadata": {},
   "cell_type": "markdown",
   "source": "## Merge 3 csv files into a single output file",
   "id": "17249b3ef78fd64"
  },
  {
   "metadata": {
    "ExecuteTime": {
     "end_time": "2025-08-19T16:35:01.261052Z",
     "start_time": "2025-08-19T16:35:00.262825Z"
    }
   },
   "cell_type": "code",
   "source": [
    "# imports\n",
    "import pandas as pd"
   ],
   "id": "6b137eb9f99cd36f",
   "outputs": [],
   "execution_count": 1
  },
  {
   "metadata": {
    "ExecuteTime": {
     "end_time": "2025-08-19T16:37:23.386971Z",
     "start_time": "2025-08-19T16:37:23.314281Z"
    }
   },
   "cell_type": "code",
   "source": [
    "data_0 = pd.read_csv('../data/daily_sales_data_0.csv')\n",
    "data_1 = pd.read_csv('../data/daily_sales_data_1.csv')\n",
    "data_2 = pd.read_csv('../data/daily_sales_data_2.csv')"
   ],
   "id": "22b86a2626c159f3",
   "outputs": [],
   "execution_count": 6
  },
  {
   "metadata": {
    "ExecuteTime": {
     "end_time": "2025-08-19T22:53:19.824234Z",
     "start_time": "2025-08-19T22:53:19.757236Z"
    }
   },
   "cell_type": "code",
   "source": [
    "# inspect\n",
    "data_0.head()\n",
    "data_0.info()"
   ],
   "id": "37991b664ed8a372",
   "outputs": [
    {
     "name": "stdout",
     "output_type": "stream",
     "text": [
      "<class 'pandas.core.frame.DataFrame'>\n",
      "RangeIndex: 13720 entries, 0 to 13719\n",
      "Data columns (total 5 columns):\n",
      " #   Column    Non-Null Count  Dtype \n",
      "---  ------    --------------  ----- \n",
      " 0   product   13720 non-null  object\n",
      " 1   price     13720 non-null  object\n",
      " 2   quantity  13720 non-null  int64 \n",
      " 3   date      13720 non-null  object\n",
      " 4   region    13720 non-null  object\n",
      "dtypes: int64(1), object(4)\n",
      "memory usage: 536.1+ KB\n"
     ]
    }
   ],
   "execution_count": 33
  },
  {
   "metadata": {
    "ExecuteTime": {
     "end_time": "2025-08-19T16:37:35.836649Z",
     "start_time": "2025-08-19T16:37:35.823628Z"
    }
   },
   "cell_type": "code",
   "source": "data_1.head()",
   "id": "1eecfecc030393b3",
   "outputs": [
    {
     "data": {
      "text/plain": [
       "       product  price  quantity        date region\n",
       "0  pink morsel  $3.00       545  2019-06-11  north\n",
       "1  pink morsel  $3.00       521  2019-06-11  south\n",
       "2  pink morsel  $3.00       595  2019-06-11   east\n",
       "3  pink morsel  $3.00       507  2019-06-11   west\n",
       "4  gold morsel  $9.99       529  2019-06-11  north"
      ],
      "text/html": [
       "<div>\n",
       "<style scoped>\n",
       "    .dataframe tbody tr th:only-of-type {\n",
       "        vertical-align: middle;\n",
       "    }\n",
       "\n",
       "    .dataframe tbody tr th {\n",
       "        vertical-align: top;\n",
       "    }\n",
       "\n",
       "    .dataframe thead th {\n",
       "        text-align: right;\n",
       "    }\n",
       "</style>\n",
       "<table border=\"1\" class=\"dataframe\">\n",
       "  <thead>\n",
       "    <tr style=\"text-align: right;\">\n",
       "      <th></th>\n",
       "      <th>product</th>\n",
       "      <th>price</th>\n",
       "      <th>quantity</th>\n",
       "      <th>date</th>\n",
       "      <th>region</th>\n",
       "    </tr>\n",
       "  </thead>\n",
       "  <tbody>\n",
       "    <tr>\n",
       "      <th>0</th>\n",
       "      <td>pink morsel</td>\n",
       "      <td>$3.00</td>\n",
       "      <td>545</td>\n",
       "      <td>2019-06-11</td>\n",
       "      <td>north</td>\n",
       "    </tr>\n",
       "    <tr>\n",
       "      <th>1</th>\n",
       "      <td>pink morsel</td>\n",
       "      <td>$3.00</td>\n",
       "      <td>521</td>\n",
       "      <td>2019-06-11</td>\n",
       "      <td>south</td>\n",
       "    </tr>\n",
       "    <tr>\n",
       "      <th>2</th>\n",
       "      <td>pink morsel</td>\n",
       "      <td>$3.00</td>\n",
       "      <td>595</td>\n",
       "      <td>2019-06-11</td>\n",
       "      <td>east</td>\n",
       "    </tr>\n",
       "    <tr>\n",
       "      <th>3</th>\n",
       "      <td>pink morsel</td>\n",
       "      <td>$3.00</td>\n",
       "      <td>507</td>\n",
       "      <td>2019-06-11</td>\n",
       "      <td>west</td>\n",
       "    </tr>\n",
       "    <tr>\n",
       "      <th>4</th>\n",
       "      <td>gold morsel</td>\n",
       "      <td>$9.99</td>\n",
       "      <td>529</td>\n",
       "      <td>2019-06-11</td>\n",
       "      <td>north</td>\n",
       "    </tr>\n",
       "  </tbody>\n",
       "</table>\n",
       "</div>"
      ]
     },
     "execution_count": 8,
     "metadata": {},
     "output_type": "execute_result"
    }
   ],
   "execution_count": 8
  },
  {
   "metadata": {
    "ExecuteTime": {
     "end_time": "2025-08-19T16:37:38.954120Z",
     "start_time": "2025-08-19T16:37:38.940590Z"
    }
   },
   "cell_type": "code",
   "source": "data_2.head()",
   "id": "e99b135aebdb75c0",
   "outputs": [
    {
     "data": {
      "text/plain": [
       "       product  price  quantity        date region\n",
       "0  pink morsel  $3.00       526  2020-10-13  north\n",
       "1  pink morsel  $3.00       546  2020-10-13  south\n",
       "2  pink morsel  $3.00       505  2020-10-13   east\n",
       "3  pink morsel  $3.00       561  2020-10-13   west\n",
       "4  gold morsel  $9.99       553  2020-10-13  north"
      ],
      "text/html": [
       "<div>\n",
       "<style scoped>\n",
       "    .dataframe tbody tr th:only-of-type {\n",
       "        vertical-align: middle;\n",
       "    }\n",
       "\n",
       "    .dataframe tbody tr th {\n",
       "        vertical-align: top;\n",
       "    }\n",
       "\n",
       "    .dataframe thead th {\n",
       "        text-align: right;\n",
       "    }\n",
       "</style>\n",
       "<table border=\"1\" class=\"dataframe\">\n",
       "  <thead>\n",
       "    <tr style=\"text-align: right;\">\n",
       "      <th></th>\n",
       "      <th>product</th>\n",
       "      <th>price</th>\n",
       "      <th>quantity</th>\n",
       "      <th>date</th>\n",
       "      <th>region</th>\n",
       "    </tr>\n",
       "  </thead>\n",
       "  <tbody>\n",
       "    <tr>\n",
       "      <th>0</th>\n",
       "      <td>pink morsel</td>\n",
       "      <td>$3.00</td>\n",
       "      <td>526</td>\n",
       "      <td>2020-10-13</td>\n",
       "      <td>north</td>\n",
       "    </tr>\n",
       "    <tr>\n",
       "      <th>1</th>\n",
       "      <td>pink morsel</td>\n",
       "      <td>$3.00</td>\n",
       "      <td>546</td>\n",
       "      <td>2020-10-13</td>\n",
       "      <td>south</td>\n",
       "    </tr>\n",
       "    <tr>\n",
       "      <th>2</th>\n",
       "      <td>pink morsel</td>\n",
       "      <td>$3.00</td>\n",
       "      <td>505</td>\n",
       "      <td>2020-10-13</td>\n",
       "      <td>east</td>\n",
       "    </tr>\n",
       "    <tr>\n",
       "      <th>3</th>\n",
       "      <td>pink morsel</td>\n",
       "      <td>$3.00</td>\n",
       "      <td>561</td>\n",
       "      <td>2020-10-13</td>\n",
       "      <td>west</td>\n",
       "    </tr>\n",
       "    <tr>\n",
       "      <th>4</th>\n",
       "      <td>gold morsel</td>\n",
       "      <td>$9.99</td>\n",
       "      <td>553</td>\n",
       "      <td>2020-10-13</td>\n",
       "      <td>north</td>\n",
       "    </tr>\n",
       "  </tbody>\n",
       "</table>\n",
       "</div>"
      ]
     },
     "execution_count": 9,
     "metadata": {},
     "output_type": "execute_result"
    }
   ],
   "execution_count": 9
  },
  {
   "metadata": {
    "ExecuteTime": {
     "end_time": "2025-08-19T16:52:53.697349Z",
     "start_time": "2025-08-19T16:52:53.684335Z"
    }
   },
   "cell_type": "code",
   "source": [
    "# def filter(dataframe):\n",
    "#     # Need to create a copy because of SettingWithCopyWarning\n",
    "#     dataframe_filtered = dataframe[dataframe['product'] == 'pink morsel'].copy()\n",
    "#\n",
    "#     # Calculate 'sales' using the filtered data\n",
    "#     dataframe_filtered['sales'] = dataframe_filtered['quantity'] * dataframe_filtered['price']\n",
    "#\n",
    "#     # Drop the original 'quantity' and 'price' columns by their names\n",
    "#     dataframe_filtered.drop(['quantity', 'price'], axis=1, inplace=True)\n",
    "#\n",
    "#     return dataframe_filtered\n"
   ],
   "id": "e35c73132be8a620",
   "outputs": [],
   "execution_count": 26
  },
  {
   "metadata": {
    "ExecuteTime": {
     "end_time": "2025-08-19T16:52:53.929881Z",
     "start_time": "2025-08-19T16:52:53.903724Z"
    }
   },
   "cell_type": "code",
   "source": [
    "# data_0_filtered = filter(data_0)\n",
    "# data_1_filtered = filter(data_1)\n",
    "# data_2_filtered = filter(data_2)"
   ],
   "id": "2635d0e12f781a8a",
   "outputs": [],
   "execution_count": 27
  },
  {
   "metadata": {
    "ExecuteTime": {
     "end_time": "2025-08-19T16:53:30.974011Z",
     "start_time": "2025-08-19T16:53:30.960996Z"
    }
   },
   "cell_type": "code",
   "source": [
    "# # data is already in order of date so using concat function\n",
    "# data = pd.concat([data_0_filtered, data_1_filtered, data_2_filtered])"
   ],
   "id": "9700083a06e9ec0",
   "outputs": [],
   "execution_count": 28
  },
  {
   "metadata": {
    "ExecuteTime": {
     "end_time": "2025-08-19T16:55:12.914469Z",
     "start_time": "2025-08-19T16:55:12.590979Z"
    }
   },
   "cell_type": "code",
   "source": [
    "# # concert to csv\n",
    "# data.to_csv('cleaned_data.csv')"
   ],
   "id": "64ffe8b33b85acc8",
   "outputs": [],
   "execution_count": 29
  },
  {
   "metadata": {
    "ExecuteTime": {
     "end_time": "2025-08-19T22:56:12.510604Z",
     "start_time": "2025-08-19T22:56:12.457438Z"
    }
   },
   "cell_type": "code",
   "source": [
    "# In one go\n",
    "(pd.concat([data_0, data_1, data_2])\n",
    "   .query(\"product == 'pink morsel'\")\n",
    ".assign(price = lambda df: df['price'].str.replace('$', '', regex=False).astype(float))\n",
    "   .assign(sales = lambda df: df['quantity'] * df['price'])\n",
    "   .drop(columns=['quantity', 'price'])\n",
    "   .to_csv('../data/cleaned/cleaned_data.csv', index=False)\n",
    ")"
   ],
   "id": "c60062fb9ee9ba21",
   "outputs": [],
   "execution_count": 37
  },
  {
   "metadata": {
    "ExecuteTime": {
     "end_time": "2025-08-19T22:56:13.947074Z",
     "start_time": "2025-08-19T22:56:13.923075Z"
    }
   },
   "cell_type": "code",
   "source": "df_cleaned = pd.read_csv('../data/cleaned/cleaned_data.csv')",
   "id": "f5339c107019eb80",
   "outputs": [],
   "execution_count": 38
  },
  {
   "metadata": {
    "ExecuteTime": {
     "end_time": "2025-08-19T22:56:14.294668Z",
     "start_time": "2025-08-19T22:56:14.271077Z"
    }
   },
   "cell_type": "code",
   "source": "df_cleaned.head()",
   "id": "f385cbcb4ab01e00",
   "outputs": [
    {
     "data": {
      "text/plain": [
       "       product        date region   sales\n",
       "0  pink morsel  2018-02-06  north  1638.0\n",
       "1  pink morsel  2018-02-06  south  1647.0\n",
       "2  pink morsel  2018-02-06   east  1731.0\n",
       "3  pink morsel  2018-02-06   west  1557.0\n",
       "4  pink morsel  2018-02-07  north  1587.0"
      ],
      "text/html": [
       "<div>\n",
       "<style scoped>\n",
       "    .dataframe tbody tr th:only-of-type {\n",
       "        vertical-align: middle;\n",
       "    }\n",
       "\n",
       "    .dataframe tbody tr th {\n",
       "        vertical-align: top;\n",
       "    }\n",
       "\n",
       "    .dataframe thead th {\n",
       "        text-align: right;\n",
       "    }\n",
       "</style>\n",
       "<table border=\"1\" class=\"dataframe\">\n",
       "  <thead>\n",
       "    <tr style=\"text-align: right;\">\n",
       "      <th></th>\n",
       "      <th>product</th>\n",
       "      <th>date</th>\n",
       "      <th>region</th>\n",
       "      <th>sales</th>\n",
       "    </tr>\n",
       "  </thead>\n",
       "  <tbody>\n",
       "    <tr>\n",
       "      <th>0</th>\n",
       "      <td>pink morsel</td>\n",
       "      <td>2018-02-06</td>\n",
       "      <td>north</td>\n",
       "      <td>1638.0</td>\n",
       "    </tr>\n",
       "    <tr>\n",
       "      <th>1</th>\n",
       "      <td>pink morsel</td>\n",
       "      <td>2018-02-06</td>\n",
       "      <td>south</td>\n",
       "      <td>1647.0</td>\n",
       "    </tr>\n",
       "    <tr>\n",
       "      <th>2</th>\n",
       "      <td>pink morsel</td>\n",
       "      <td>2018-02-06</td>\n",
       "      <td>east</td>\n",
       "      <td>1731.0</td>\n",
       "    </tr>\n",
       "    <tr>\n",
       "      <th>3</th>\n",
       "      <td>pink morsel</td>\n",
       "      <td>2018-02-06</td>\n",
       "      <td>west</td>\n",
       "      <td>1557.0</td>\n",
       "    </tr>\n",
       "    <tr>\n",
       "      <th>4</th>\n",
       "      <td>pink morsel</td>\n",
       "      <td>2018-02-07</td>\n",
       "      <td>north</td>\n",
       "      <td>1587.0</td>\n",
       "    </tr>\n",
       "  </tbody>\n",
       "</table>\n",
       "</div>"
      ]
     },
     "execution_count": 39,
     "metadata": {},
     "output_type": "execute_result"
    }
   ],
   "execution_count": 39
  },
  {
   "metadata": {},
   "cell_type": "code",
   "outputs": [],
   "execution_count": null,
   "source": "",
   "id": "ed38abaad3a15767"
  }
 ],
 "metadata": {
  "kernelspec": {
   "name": "python3",
   "language": "python",
   "display_name": "Python 3 (ipykernel)"
  }
 },
 "nbformat": 4,
 "nbformat_minor": 5
}
